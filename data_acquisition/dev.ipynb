{
 "cells": [
  {
   "cell_type": "code",
   "execution_count": 8,
   "metadata": {},
   "outputs": [],
   "source": [
    "import sounddevice as sd\n",
    "from scipy.io.wavfile import write\n",
    "import numpy as np\n",
    "# import tk\n",
    "from pynput import keyboard"
   ]
  },
  {
   "cell_type": "markdown",
   "metadata": {},
   "source": [
    "# Recording some sounds\n",
    "\n",
    "Starting with sample recording"
   ]
  },
  {
   "cell_type": "code",
   "execution_count": 24,
   "metadata": {},
   "outputs": [],
   "source": [
    "fs = 44100  # Sample rate\n",
    "seconds = 2  # Duration of recording\n",
    "\n",
    "myrecording = sd.rec(int(seconds * fs), samplerate=fs, channels=2)\n",
    "sd.wait()  # Wait until recording is finished\n",
    "\n",
    "rec2 = sd.rec(int(seconds * fs), samplerate=fs, channels=2)\n",
    "sd.wait()  # Wait until recording is finished\n",
    "#write('samples/output.wav', fs, myrecording)  # Save as WAV file "
   ]
  },
  {
   "cell_type": "code",
   "execution_count": 44,
   "metadata": {},
   "outputs": [
    {
     "data": {
      "text/plain": [
       "array([0.00643921, 0.0072937 ], dtype=float32)"
      ]
     },
     "execution_count": 44,
     "metadata": {},
     "output_type": "execute_result"
    }
   ],
   "source": [
    "# Example from array\n",
    "myrecording[1900]"
   ]
  },
  {
   "cell_type": "code",
   "execution_count": 11,
   "metadata": {},
   "outputs": [
    {
     "data": {
      "text/plain": [
       "(88200, 2)"
      ]
     },
     "execution_count": 11,
     "metadata": {},
     "output_type": "execute_result"
    }
   ],
   "source": [
    "type(myrecording)\n",
    "myrecording.shape"
   ]
  },
  {
   "cell_type": "code",
   "execution_count": 34,
   "metadata": {},
   "outputs": [
    {
     "name": "stdout",
     "output_type": "stream",
     "text": [
      "[[0.00018311 0.00375366]]\n"
     ]
    }
   ],
   "source": [
    "# Record 10 pices and add them in memory\n",
    "i = 0\n",
    "record_flag = True\n",
    "fist_run = True\n",
    "sample_duration = 1\n",
    "full_recording = sd.rec(int(1), samplerate=fs, channels=2)\n",
    "old_recording = full_recording.copy()\n",
    "print(full_recording)\n",
    "while (record_flag):\n",
    "    new_recording = sd.rec(int(sample_duration * fs), samplerate=fs, channels=2)\n",
    "    sd.wait()  # Wait until recording is finished\n",
    "    full_recording = np.concatenate((full_recording,new_recording))\n",
    "    i += 1\n",
    "    if i > 10:\n",
    "        record_flag = False\n",
    "    "
   ]
  },
  {
   "cell_type": "code",
   "execution_count": 35,
   "metadata": {},
   "outputs": [],
   "source": [
    "write('samples/10s.wav', fs, full_recording)  # Save as WAV file "
   ]
  },
  {
   "cell_type": "markdown",
   "metadata": {},
   "source": [
    "# Trying with keyboard\n",
    "Simple example of keypress detection"
   ]
  },
  {
   "cell_type": "code",
   "execution_count": 64,
   "metadata": {},
   "outputs": [
    {
     "name": "stdout",
     "output_type": "stream",
     "text": [
      "EXECUTE\n",
      "Alphanumeric key pressed: e \n",
      "Key released: 'e'\n",
      "Alphanumeric key pressed: a \n",
      "Key released: 'a'\n",
      "<enum 'Key'>\n",
      "special key pressed: Key.space\n",
      "Key released: Key.space\n",
      "<enum 'Key'>\n",
      "special key pressed: Key.esc\n",
      "Key released: Key.esc\n"
     ]
    }
   ],
   "source": [
    "from pynput import keyboard\n",
    "def on_press(key):\n",
    "    try:\n",
    "        print('Alphanumeric key pressed: {0} '.format(\n",
    "            key.char))\n",
    "    except AttributeError:\n",
    "        print(type(key))\n",
    "        print('special key pressed: {0}'.format(\n",
    "            key))\n",
    "\n",
    "def on_release(key):\n",
    "    print('Key released: {0}'.format(\n",
    "        key))\n",
    "    if key == keyboard.Key.esc:\n",
    "        # Stop listener\n",
    "        return False\n",
    "    \n",
    "# Collect events until released\n",
    "# with keyboard.Listener(\n",
    "#         on_press=on_press,\n",
    "#         on_release=on_release) as listener:\n",
    "#     listener.join()\n",
    "\n",
    "\n",
    "# ...or, in a non-blocking fashion:\n",
    "listener = keyboard.Listener(\n",
    "    on_press=on_press,\n",
    "    on_release=on_release)\n",
    "listener.start()    \n",
    "    \n",
    "print(\"EXECUTE\")\n"
   ]
  },
  {
   "cell_type": "code",
   "execution_count": null,
   "metadata": {},
   "outputs": [],
   "source": []
  },
  {
   "cell_type": "code",
   "execution_count": 42,
   "metadata": {},
   "outputs": [
    {
     "name": "stdout",
     "output_type": "stream",
     "text": [
      "special key pressed: Key.enter\n",
      "Key released: Key.enter\n"
     ]
    }
   ],
   "source": [
    "# To stop listener\n",
    "listener.stop()"
   ]
  },
  {
   "cell_type": "markdown",
   "metadata": {},
   "source": [
    "# Now lets do some keypress recording!"
   ]
  },
  {
   "cell_type": "code",
   "execution_count": null,
   "metadata": {},
   "outputs": [],
   "source": [
    "import time\n",
    "\n",
    "time.sleep(0.4)\n",
    "### Settings ###\n",
    "fs = 44100  # Sample rate\n",
    "seconds = 2  # Duration of recording\n",
    "recordings_count = 3\n",
    "recordings_after_the_press = 1\n",
    "sample_duration = 1\n",
    "\n",
    "\n",
    "\n",
    "def on_press(key):\n",
    "    try:\n",
    "        print('Alphanumeric key pressed: {0} '.format(\n",
    "            key.char))\n",
    "        # if (key.char == \"s\"):\n",
    "        #     print(\"STOPPING\")\n",
    "    except AttributeError:\n",
    "        print('special key pressed: {0}'.format(\n",
    "            key))\n",
    "\n",
    "def on_release(key):\n",
    "    global stop_flag\n",
    "    print('Key released: {0}'.format(\n",
    "        key))\n",
    "    stop_flag = True\n",
    "    if key == keyboard.Key.esc:\n",
    "        # Stop listener\n",
    "        return False\n",
    "    \n",
    "stop_flag = False\n",
    "record_flag = True\n",
    "\n",
    "stop_initiated = False\n",
    "fist_run = True\n",
    "\n",
    "listener = keyboard.Listener(\n",
    "    on_press=on_press,\n",
    "    on_release=on_release)\n",
    "listener.start()\n",
    "\n",
    "# Allocate memory for moving recordings list\n",
    "\n",
    "recordings = [sd.rec(int(1), samplerate=fs, channels=2)]\n",
    "i = 0\n",
    "\n",
    "while (record_flag):\n",
    "    new_recording = sd.rec(int(sample_duration * fs), samplerate=fs, channels=2)\n",
    "    if len(recordings) > recordings_count:\n",
    "        recordings.pop(0)\n",
    "    sd.wait()  # Wait until recording is finished\n",
    "    recordings.append(new_recording)\n",
    "    # print(f\"record flag: {record_flag}\")\n",
    "    if (stop_flag):\n",
    "        i += 1\n",
    "        if i > recordings_after_the_press:\n",
    "            record_flag = False\n",
    "    \n",
    "\n",
    "full_recording = np.concatenate(recordings)\n",
    "\n"
   ]
  },
  {
   "cell_type": "code",
   "execution_count": null,
   "metadata": {},
   "outputs": [],
   "source": [
    "write('samples/test_key_press.wav', fs, full_recording)  # Save as WAV file "
   ]
  },
  {
   "cell_type": "markdown",
   "metadata": {},
   "source": [
    "# Test of the result"
   ]
  },
  {
   "cell_type": "code",
   "execution_count": 65,
   "metadata": {},
   "outputs": [],
   "source": [
    "from get_key_sample import *"
   ]
  },
  {
   "cell_type": "code",
   "execution_count": null,
   "metadata": {},
   "outputs": [],
   "source": [
    "listener = keyboard.Listener(\n",
    "    on_press=on_press,\n",
    "    on_release=on_release)\n",
    "listener.start()\n",
    "logging.info(f'Listener started')\n",
    "\n",
    "\n",
    "rec = record_next_press()\n",
    "\n",
    "listener.stop()"
   ]
  },
  {
   "cell_type": "markdown",
   "metadata": {},
   "source": [
    "# Working with database\n",
    "\n",
    "My small playing ground!"
   ]
  },
  {
   "cell_type": "code",
   "execution_count": 88,
   "metadata": {},
   "outputs": [],
   "source": [
    "import pandas as pd\n",
    "df = pd.read_csv(\"dataset.csv\")"
   ]
  },
  {
   "cell_type": "code",
   "execution_count": 89,
   "metadata": {},
   "outputs": [
    {
     "data": {
      "text/html": [
       "<div>\n",
       "<style scoped>\n",
       "    .dataframe tbody tr th:only-of-type {\n",
       "        vertical-align: middle;\n",
       "    }\n",
       "\n",
       "    .dataframe tbody tr th {\n",
       "        vertical-align: top;\n",
       "    }\n",
       "\n",
       "    .dataframe thead th {\n",
       "        text-align: right;\n",
       "    }\n",
       "</style>\n",
       "<table border=\"1\" class=\"dataframe\">\n",
       "  <thead>\n",
       "    <tr style=\"text-align: right;\">\n",
       "      <th></th>\n",
       "      <th>id</th>\n",
       "      <th>path</th>\n",
       "      <th>key_pressed</th>\n",
       "      <th>num_of_samples</th>\n",
       "      <th>time_created</th>\n",
       "      <th>comment</th>\n",
       "    </tr>\n",
       "  </thead>\n",
       "  <tbody>\n",
       "    <tr>\n",
       "      <th>0</th>\n",
       "      <td>22</td>\n",
       "      <td>123</td>\n",
       "      <td>k</td>\n",
       "      <td>1</td>\n",
       "      <td>10000</td>\n",
       "      <td>NaN</td>\n",
       "    </tr>\n",
       "    <tr>\n",
       "      <th>1</th>\n",
       "      <td>23</td>\n",
       "      <td>123</td>\n",
       "      <td>k</td>\n",
       "      <td>1</td>\n",
       "      <td>10001</td>\n",
       "      <td>NaN</td>\n",
       "    </tr>\n",
       "  </tbody>\n",
       "</table>\n",
       "</div>"
      ],
      "text/plain": [
       "   id  path key_pressed  num_of_samples  time_created  comment\n",
       "0  22   123           k               1         10000      NaN\n",
       "1  23   123           k               1         10001      NaN"
      ]
     },
     "execution_count": 89,
     "metadata": {},
     "output_type": "execute_result"
    }
   ],
   "source": [
    "df"
   ]
  },
  {
   "cell_type": "code",
   "execution_count": 92,
   "metadata": {},
   "outputs": [
    {
     "data": {
      "text/plain": [
       "23"
      ]
     },
     "execution_count": 92,
     "metadata": {},
     "output_type": "execute_result"
    }
   ],
   "source": [
    "int(df.iloc[-1:][\"id\"])"
   ]
  },
  {
   "cell_type": "code",
   "execution_count": 105,
   "metadata": {},
   "outputs": [],
   "source": [
    "new_database_entery = {\n",
    "        \"id\":45,\n",
    "        \"path\":\"125\",\n",
    "        \"key_pressed\":\"f\",\n",
    "        \"num_of_samples\":1000,\n",
    "        \"time_created\":123,\n",
    "        \"comment\":\"\"\n",
    "    }"
   ]
  },
  {
   "cell_type": "code",
   "execution_count": 106,
   "metadata": {},
   "outputs": [
    {
     "name": "stderr",
     "output_type": "stream",
     "text": [
      "/tmp/ipykernel_12263/1036307934.py:1: FutureWarning: The frame.append method is deprecated and will be removed from pandas in a future version. Use pandas.concat instead.\n",
      "  df.append(new_database_entery,ignore_index=True)\n"
     ]
    },
    {
     "data": {
      "text/html": [
       "<div>\n",
       "<style scoped>\n",
       "    .dataframe tbody tr th:only-of-type {\n",
       "        vertical-align: middle;\n",
       "    }\n",
       "\n",
       "    .dataframe tbody tr th {\n",
       "        vertical-align: top;\n",
       "    }\n",
       "\n",
       "    .dataframe thead th {\n",
       "        text-align: right;\n",
       "    }\n",
       "</style>\n",
       "<table border=\"1\" class=\"dataframe\">\n",
       "  <thead>\n",
       "    <tr style=\"text-align: right;\">\n",
       "      <th></th>\n",
       "      <th>id</th>\n",
       "      <th>path</th>\n",
       "      <th>key_pressed</th>\n",
       "      <th>num_of_samples</th>\n",
       "      <th>time_created</th>\n",
       "      <th>comment</th>\n",
       "    </tr>\n",
       "  </thead>\n",
       "  <tbody>\n",
       "    <tr>\n",
       "      <th>0</th>\n",
       "      <td>22</td>\n",
       "      <td>123</td>\n",
       "      <td>k</td>\n",
       "      <td>1</td>\n",
       "      <td>10000</td>\n",
       "      <td>NaN</td>\n",
       "    </tr>\n",
       "    <tr>\n",
       "      <th>1</th>\n",
       "      <td>23</td>\n",
       "      <td>123</td>\n",
       "      <td>k</td>\n",
       "      <td>1</td>\n",
       "      <td>10001</td>\n",
       "      <td>NaN</td>\n",
       "    </tr>\n",
       "    <tr>\n",
       "      <th>2</th>\n",
       "      <td>45</td>\n",
       "      <td>125</td>\n",
       "      <td>f</td>\n",
       "      <td>1000</td>\n",
       "      <td>123</td>\n",
       "      <td></td>\n",
       "    </tr>\n",
       "  </tbody>\n",
       "</table>\n",
       "</div>"
      ],
      "text/plain": [
       "   id path key_pressed  num_of_samples  time_created comment\n",
       "0  22  123           k               1         10000     NaN\n",
       "1  23  123           k               1         10001     NaN\n",
       "2  45  125           f            1000           123        "
      ]
     },
     "execution_count": 106,
     "metadata": {},
     "output_type": "execute_result"
    }
   ],
   "source": [
    "df.append(new_database_entery,ignore_index=True)"
   ]
  },
  {
   "cell_type": "code",
   "execution_count": 103,
   "metadata": {},
   "outputs": [],
   "source": [
    "schema = [\"id\",\"path\",\"key_pressed\",\"num_of_samples\",\"time_created\",\"comment\"]\n",
    "database = pd.DataFrame(columns = schema)"
   ]
  },
  {
   "cell_type": "code",
   "execution_count": 122,
   "metadata": {},
   "outputs": [
    {
     "data": {
      "text/html": [
       "<div>\n",
       "<style scoped>\n",
       "    .dataframe tbody tr th:only-of-type {\n",
       "        vertical-align: middle;\n",
       "    }\n",
       "\n",
       "    .dataframe tbody tr th {\n",
       "        vertical-align: top;\n",
       "    }\n",
       "\n",
       "    .dataframe thead th {\n",
       "        text-align: right;\n",
       "    }\n",
       "</style>\n",
       "<table border=\"1\" class=\"dataframe\">\n",
       "  <thead>\n",
       "    <tr style=\"text-align: right;\">\n",
       "      <th></th>\n",
       "      <th>id</th>\n",
       "      <th>path</th>\n",
       "      <th>key_pressed</th>\n",
       "      <th>num_of_samples</th>\n",
       "      <th>time_created</th>\n",
       "      <th>comment</th>\n",
       "    </tr>\n",
       "  </thead>\n",
       "  <tbody>\n",
       "    <tr>\n",
       "      <th>0</th>\n",
       "      <td>45</td>\n",
       "      <td>125</td>\n",
       "      <td>f</td>\n",
       "      <td>1000</td>\n",
       "      <td>123</td>\n",
       "      <td></td>\n",
       "    </tr>\n",
       "  </tbody>\n",
       "</table>\n",
       "</div>"
      ],
      "text/plain": [
       "   id path key_pressed  num_of_samples  time_created comment\n",
       "0  45  125           f            1000           123        "
      ]
     },
     "execution_count": 122,
     "metadata": {},
     "output_type": "execute_result"
    }
   ],
   "source": [
    "pd.DataFrame(new_database_entery,index=[0])\n",
    "# df = pd.DataFrame({'A': 1, 'B': 2}, index=[0])"
   ]
  },
  {
   "cell_type": "code",
   "execution_count": 132,
   "metadata": {},
   "outputs": [],
   "source": [
    "database = pd.concat([database,pd.DataFrame(new_database_entery,index=[0])])"
   ]
  },
  {
   "cell_type": "code",
   "execution_count": 131,
   "metadata": {},
   "outputs": [
    {
     "data": {
      "text/html": [
       "<div>\n",
       "<style scoped>\n",
       "    .dataframe tbody tr th:only-of-type {\n",
       "        vertical-align: middle;\n",
       "    }\n",
       "\n",
       "    .dataframe tbody tr th {\n",
       "        vertical-align: top;\n",
       "    }\n",
       "\n",
       "    .dataframe thead th {\n",
       "        text-align: right;\n",
       "    }\n",
       "</style>\n",
       "<table border=\"1\" class=\"dataframe\">\n",
       "  <thead>\n",
       "    <tr style=\"text-align: right;\">\n",
       "      <th></th>\n",
       "      <th>id</th>\n",
       "      <th>path</th>\n",
       "      <th>key_pressed</th>\n",
       "      <th>num_of_samples</th>\n",
       "      <th>time_created</th>\n",
       "      <th>comment</th>\n",
       "    </tr>\n",
       "  </thead>\n",
       "  <tbody>\n",
       "    <tr>\n",
       "      <th>0</th>\n",
       "      <td>45</td>\n",
       "      <td>125</td>\n",
       "      <td>f</td>\n",
       "      <td>1000</td>\n",
       "      <td>123</td>\n",
       "      <td></td>\n",
       "    </tr>\n",
       "    <tr>\n",
       "      <th>0</th>\n",
       "      <td>45</td>\n",
       "      <td>125</td>\n",
       "      <td>f</td>\n",
       "      <td>1000</td>\n",
       "      <td>123</td>\n",
       "      <td></td>\n",
       "    </tr>\n",
       "    <tr>\n",
       "      <th>0</th>\n",
       "      <td>45</td>\n",
       "      <td>125</td>\n",
       "      <td>f</td>\n",
       "      <td>1000</td>\n",
       "      <td>123</td>\n",
       "      <td></td>\n",
       "    </tr>\n",
       "  </tbody>\n",
       "</table>\n",
       "</div>"
      ],
      "text/plain": [
       "   id path key_pressed num_of_samples time_created comment\n",
       "0  45  125           f           1000          123        \n",
       "0  45  125           f           1000          123        \n",
       "0  45  125           f           1000          123        "
      ]
     },
     "execution_count": 131,
     "metadata": {},
     "output_type": "execute_result"
    }
   ],
   "source": [
    "database"
   ]
  },
  {
   "cell_type": "code",
   "execution_count": null,
   "metadata": {},
   "outputs": [],
   "source": []
  }
 ],
 "metadata": {
  "interpreter": {
   "hash": "e7370f93d1d0cde622a1f8e1c04877d8463912d04d973331ad4851f04de6915a"
  },
  "kernelspec": {
   "display_name": "Python 3.10.5 64-bit",
   "language": "python",
   "name": "python3"
  },
  "language_info": {
   "codemirror_mode": {
    "name": "ipython",
    "version": 3
   },
   "file_extension": ".py",
   "mimetype": "text/x-python",
   "name": "python",
   "nbconvert_exporter": "python",
   "pygments_lexer": "ipython3",
   "version": "3.10.5"
  },
  "orig_nbformat": 4
 },
 "nbformat": 4,
 "nbformat_minor": 2
}
