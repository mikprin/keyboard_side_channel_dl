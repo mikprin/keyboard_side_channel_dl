{
 "cells": [
  {
   "cell_type": "code",
   "execution_count": 8,
   "metadata": {},
   "outputs": [],
   "source": [
    "import sounddevice as sd\n",
    "from scipy.io.wavfile import write\n",
    "import numpy as np\n",
    "# import tk\n",
    "from pynput import keyboard"
   ]
  },
  {
   "cell_type": "markdown",
   "metadata": {},
   "source": [
    "# Recording some sounds\n",
    "\n",
    "Starting with sample recording"
   ]
  },
  {
   "cell_type": "code",
   "execution_count": 24,
   "metadata": {},
   "outputs": [],
   "source": [
    "fs = 44100  # Sample rate\n",
    "seconds = 2  # Duration of recording\n",
    "\n",
    "myrecording = sd.rec(int(seconds * fs), samplerate=fs, channels=2)\n",
    "sd.wait()  # Wait until recording is finished\n",
    "\n",
    "rec2 = sd.rec(int(seconds * fs), samplerate=fs, channels=2)\n",
    "sd.wait()  # Wait until recording is finished\n",
    "#write('samples/output.wav', fs, myrecording)  # Save as WAV file "
   ]
  },
  {
   "cell_type": "code",
   "execution_count": 44,
   "metadata": {},
   "outputs": [
    {
     "data": {
      "text/plain": [
       "array([0.00643921, 0.0072937 ], dtype=float32)"
      ]
     },
     "execution_count": 44,
     "metadata": {},
     "output_type": "execute_result"
    }
   ],
   "source": [
    "# Example from array\n",
    "myrecording[1900]"
   ]
  },
  {
   "cell_type": "code",
   "execution_count": 11,
   "metadata": {},
   "outputs": [
    {
     "data": {
      "text/plain": [
       "(88200, 2)"
      ]
     },
     "execution_count": 11,
     "metadata": {},
     "output_type": "execute_result"
    }
   ],
   "source": [
    "type(myrecording)\n",
    "myrecording.shape"
   ]
  },
  {
   "cell_type": "code",
   "execution_count": 34,
   "metadata": {},
   "outputs": [
    {
     "name": "stdout",
     "output_type": "stream",
     "text": [
      "[[0.00018311 0.00375366]]\n"
     ]
    }
   ],
   "source": [
    "# Record 10 pices and add them in memory\n",
    "i = 0\n",
    "record_flag = True\n",
    "fist_run = True\n",
    "sample_duration = 1\n",
    "full_recording = sd.rec(int(1), samplerate=fs, channels=2)\n",
    "old_recording = full_recording.copy()\n",
    "print(full_recording)\n",
    "while (record_flag):\n",
    "    new_recording = sd.rec(int(sample_duration * fs), samplerate=fs, channels=2)\n",
    "    sd.wait()  # Wait until recording is finished\n",
    "    full_recording = np.concatenate((full_recording,new_recording))\n",
    "    i += 1\n",
    "    if i > 10:\n",
    "        record_flag = False\n",
    "    "
   ]
  },
  {
   "cell_type": "code",
   "execution_count": 35,
   "metadata": {},
   "outputs": [],
   "source": [
    "write('samples/10s.wav', fs, full_recording)  # Save as WAV file "
   ]
  },
  {
   "cell_type": "markdown",
   "metadata": {},
   "source": [
    "# Trying with keyboard\n",
    "Simple example of keypress detection"
   ]
  },
  {
   "cell_type": "code",
   "execution_count": 64,
   "metadata": {},
   "outputs": [
    {
     "name": "stdout",
     "output_type": "stream",
     "text": [
      "EXECUTE\n",
      "Alphanumeric key pressed: e \n",
      "Key released: 'e'\n",
      "Alphanumeric key pressed: a \n",
      "Key released: 'a'\n",
      "<enum 'Key'>\n",
      "special key pressed: Key.space\n",
      "Key released: Key.space\n",
      "<enum 'Key'>\n",
      "special key pressed: Key.esc\n",
      "Key released: Key.esc\n"
     ]
    }
   ],
   "source": [
    "from pynput import keyboard\n",
    "def on_press(key):\n",
    "    try:\n",
    "        print('Alphanumeric key pressed: {0} '.format(\n",
    "            key.char))\n",
    "    except AttributeError:\n",
    "        print(type(key))\n",
    "        print('special key pressed: {0}'.format(\n",
    "            key))\n",
    "\n",
    "def on_release(key):\n",
    "    print('Key released: {0}'.format(\n",
    "        key))\n",
    "    if key == keyboard.Key.esc:\n",
    "        # Stop listener\n",
    "        return False\n",
    "    \n",
    "# Collect events until released\n",
    "# with keyboard.Listener(\n",
    "#         on_press=on_press,\n",
    "#         on_release=on_release) as listener:\n",
    "#     listener.join()\n",
    "\n",
    "\n",
    "# ...or, in a non-blocking fashion:\n",
    "listener = keyboard.Listener(\n",
    "    on_press=on_press,\n",
    "    on_release=on_release)\n",
    "listener.start()    \n",
    "    \n",
    "print(\"EXECUTE\")\n"
   ]
  },
  {
   "cell_type": "code",
   "execution_count": null,
   "metadata": {},
   "outputs": [],
   "source": []
  },
  {
   "cell_type": "code",
   "execution_count": 42,
   "metadata": {},
   "outputs": [
    {
     "name": "stdout",
     "output_type": "stream",
     "text": [
      "special key pressed: Key.enter\n",
      "Key released: Key.enter\n"
     ]
    }
   ],
   "source": [
    "# To stop listener\n",
    "listener.stop()"
   ]
  },
  {
   "cell_type": "markdown",
   "metadata": {},
   "source": [
    "# Now lets do some keypress recording!"
   ]
  },
  {
   "cell_type": "code",
   "execution_count": null,
   "metadata": {},
   "outputs": [],
   "source": [
    "import time\n",
    "\n",
    "time.sleep(0.4)\n",
    "### Settings ###\n",
    "fs = 44100  # Sample rate\n",
    "seconds = 2  # Duration of recording\n",
    "recordings_count = 3\n",
    "recordings_after_the_press = 1\n",
    "sample_duration = 1\n",
    "\n",
    "\n",
    "\n",
    "def on_press(key):\n",
    "    try:\n",
    "        print('Alphanumeric key pressed: {0} '.format(\n",
    "            key.char))\n",
    "        # if (key.char == \"s\"):\n",
    "        #     print(\"STOPPING\")\n",
    "    except AttributeError:\n",
    "        print('special key pressed: {0}'.format(\n",
    "            key))\n",
    "\n",
    "def on_release(key):\n",
    "    global stop_flag\n",
    "    print('Key released: {0}'.format(\n",
    "        key))\n",
    "    stop_flag = True\n",
    "    if key == keyboard.Key.esc:\n",
    "        # Stop listener\n",
    "        return False\n",
    "    \n",
    "stop_flag = False\n",
    "record_flag = True\n",
    "\n",
    "stop_initiated = False\n",
    "fist_run = True\n",
    "\n",
    "listener = keyboard.Listener(\n",
    "    on_press=on_press,\n",
    "    on_release=on_release)\n",
    "listener.start()\n",
    "\n",
    "# Allocate memory for moving recordings list\n",
    "\n",
    "recordings = [sd.rec(int(1), samplerate=fs, channels=2)]\n",
    "i = 0\n",
    "\n",
    "while (record_flag):\n",
    "    new_recording = sd.rec(int(sample_duration * fs), samplerate=fs, channels=2)\n",
    "    if len(recordings) > recordings_count:\n",
    "        recordings.pop(0)\n",
    "    sd.wait()  # Wait until recording is finished\n",
    "    recordings.append(new_recording)\n",
    "    # print(f\"record flag: {record_flag}\")\n",
    "    if (stop_flag):\n",
    "        i += 1\n",
    "        if i > recordings_after_the_press:\n",
    "            record_flag = False\n",
    "    \n",
    "\n",
    "full_recording = np.concatenate(recordings)\n",
    "\n"
   ]
  },
  {
   "cell_type": "code",
   "execution_count": null,
   "metadata": {},
   "outputs": [],
   "source": [
    "write('samples/test_key_press.wav', fs, full_recording)  # Save as WAV file "
   ]
  },
  {
   "cell_type": "markdown",
   "metadata": {},
   "source": [
    "# Test of the result"
   ]
  },
  {
   "cell_type": "code",
   "execution_count": 65,
   "metadata": {},
   "outputs": [],
   "source": [
    "from get_key_sample import *"
   ]
  },
  {
   "cell_type": "code",
   "execution_count": 66,
   "metadata": {},
   "outputs": [
    {
     "name": "stdout",
     "output_type": "stream",
     "text": [
      "2022-08-13 21:37:12,045 - root - INFO - Listener started\n",
      "2022-08-13 21:37:14,366 - root - INFO - Pressed: d\n",
      "2022-08-13 21:37:16,068 - root - INFO - Key d recorded\n",
      "[array([[3.9672852e-04, 9.1552734e-05],\n",
      "       [5.1269531e-03, 4.6081543e-03],\n",
      "       [8.3923340e-03, 1.0803223e-02],\n",
      "       ...,\n",
      "       [3.9672852e-03, 5.8898926e-03],\n",
      "       [3.9062500e-03, 2.0446777e-03],\n",
      "       [3.2958984e-03, 3.6621094e-03]], dtype=float32), array([[-0.00268555,  0.00289917],\n",
      "       [-0.00167847,  0.00100708],\n",
      "       [ 0.00195312, -0.00021362],\n",
      "       ...,\n",
      "       [ 0.00311279, -0.00015259],\n",
      "       [ 0.00143433, -0.00152588],\n",
      "       [ 0.00427246,  0.00057983]], dtype=float32), array([[ 0.00387573,  0.00259399],\n",
      "       [ 0.00073242,  0.00402832],\n",
      "       [ 0.00012207,  0.00125122],\n",
      "       ...,\n",
      "       [ 0.00057983, -0.00042725],\n",
      "       [ 0.        ,  0.        ],\n",
      "       [ 0.00158691,  0.00100708]], dtype=float32), array([[-0.00772095, -0.00811768],\n",
      "       [-0.00982666, -0.00723267],\n",
      "       [-0.00994873, -0.00927734],\n",
      "       ...,\n",
      "       [ 0.02105713,  0.01727295],\n",
      "       [ 0.02301025,  0.02020264],\n",
      "       [ 0.02093506,  0.01928711]], dtype=float32)]\n",
      "2022-08-13 21:37:23,422 - root - INFO - Pressed: c\n",
      "2022-08-13 21:37:24,403 - root - INFO - Pressed: v\n"
     ]
    }
   ],
   "source": [
    "listener = keyboard.Listener(\n",
    "    on_press=on_press,\n",
    "    on_release=on_release)\n",
    "listener.start()\n",
    "logging.info(f'Listener started')\n",
    "\n",
    "\n",
    "rec = record_next_press()\n",
    "\n",
    "listener.stop()"
   ]
  },
  {
   "cell_type": "code",
   "execution_count": 70,
   "metadata": {},
   "outputs": [],
   "source": [
    "new_rec = np.concatenate(rec)"
   ]
  },
  {
   "cell_type": "code",
   "execution_count": 69,
   "metadata": {},
   "outputs": [],
   "source": []
  },
  {
   "cell_type": "code",
   "execution_count": null,
   "metadata": {},
   "outputs": [],
   "source": []
  }
 ],
 "metadata": {
  "interpreter": {
   "hash": "e7370f93d1d0cde622a1f8e1c04877d8463912d04d973331ad4851f04de6915a"
  },
  "kernelspec": {
   "display_name": "Python 3.10.5 64-bit",
   "language": "python",
   "name": "python3"
  },
  "language_info": {
   "codemirror_mode": {
    "name": "ipython",
    "version": 3
   },
   "file_extension": ".py",
   "mimetype": "text/x-python",
   "name": "python",
   "nbconvert_exporter": "python",
   "pygments_lexer": "ipython3",
   "version": "3.10.5"
  },
  "orig_nbformat": 4
 },
 "nbformat": 4,
 "nbformat_minor": 2
}
